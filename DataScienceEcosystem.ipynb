{
  "nbformat": 4,
  "nbformat_minor": 0,
  "metadata": {
    "colab": {
      "provenance": [],
      "authorship_tag": "ABX9TyMCZMl4IVqlQeOEaNnNxCd6",
      "include_colab_link": true
    },
    "kernelspec": {
      "name": "python3",
      "display_name": "Python 3"
    },
    "language_info": {
      "name": "python"
    }
  },
  "cells": [
    {
      "cell_type": "markdown",
      "metadata": {
        "id": "view-in-github",
        "colab_type": "text"
      },
      "source": [
        "<a href=\"https://colab.research.google.com/github/kr3t3n/datascience-learning/blob/main/DataScienceEcosystem.ipynb\" target=\"_parent\"><img src=\"https://colab.research.google.com/assets/colab-badge.svg\" alt=\"Open In Colab\"/></a>"
      ]
    },
    {
      "cell_type": "code",
      "execution_count": null,
      "metadata": {
        "id": "-5sqWwV3Z9l0"
      },
      "outputs": [],
      "source": []
    },
    {
      "cell_type": "markdown",
      "source": [
        "# Data Science Tools and Ecosystem"
      ],
      "metadata": {
        "id": "cFNsL0tcaGQC"
      }
    },
    {
      "cell_type": "markdown",
      "source": [
        "In this notebook, Data Science Tools and Ecosystem are summarized."
      ],
      "metadata": {
        "id": "kTnZygyRaPkR"
      }
    },
    {
      "cell_type": "markdown",
      "source": [
        "Some of the popular languages that Data Scientists use are:\n",
        "\n",
        "1. Python\n",
        "2. R\n",
        "3. Scala\n",
        "4. Julia\n",
        "5. SQL\n",
        "\n",
        "\n"
      ],
      "metadata": {
        "id": "PaS84lOnaXO_"
      }
    },
    {
      "cell_type": "markdown",
      "source": [
        "Some of the commonly used libraries used by Data Scientists include:\n",
        "\n",
        "1. Pandas\n",
        "2. NumPy\n",
        "3. MatPlotLib\n",
        "4. SciPy\n",
        "5. Seaborn\n",
        "\n"
      ],
      "metadata": {
        "id": "KMoRbsCuaz8w"
      }
    },
    {
      "cell_type": "markdown",
      "source": [
        "|Data Science Tools|\n",
        "---\n",
        "|GitHub|\n",
        "|Google Collab|\n",
        "|JupyterLab|"
      ],
      "metadata": {
        "id": "M1dmr6uybCqJ"
      }
    },
    {
      "cell_type": "markdown",
      "source": [
        "### Below are a few examples of evaluating arithmetic expressions in Python.\n",
        "\n"
      ],
      "metadata": {
        "id": "m28iYygtbbrV"
      }
    },
    {
      "cell_type": "code",
      "source": [
        "(3*4)+5\n",
        "# This a simple arithmetic expression to mutiply then add integers"
      ],
      "metadata": {
        "colab": {
          "base_uri": "https://localhost:8080/"
        },
        "id": "7bk_O5RPbsD4",
        "outputId": "1080f644-f485-4494-a739-9d77775d11dc"
      },
      "execution_count": 1,
      "outputs": [
        {
          "output_type": "execute_result",
          "data": {
            "text/plain": [
              "17"
            ]
          },
          "metadata": {},
          "execution_count": 1
        }
      ]
    },
    {
      "cell_type": "code",
      "source": [
        "200/60\n",
        "# This will convert 200 minuter to hours by dividing by 60"
      ],
      "metadata": {
        "colab": {
          "base_uri": "https://localhost:8080/"
        },
        "id": "l1BcqHsQb8-U",
        "outputId": "8eb78d91-6002-416b-9365-c67505d449aa"
      },
      "execution_count": 2,
      "outputs": [
        {
          "output_type": "execute_result",
          "data": {
            "text/plain": [
              "3.3333333333333335"
            ]
          },
          "metadata": {},
          "execution_count": 2
        }
      ]
    },
    {
      "cell_type": "markdown",
      "source": [
        "**Objectives:**\n",
        "\n",
        "* List popular languages for Data Science\n",
        "* List libraries commonly used by Data Scientists\n",
        "* List popular Data Science tools\n",
        "* List a few example of evaluating arithmetic expressions\n",
        "\n"
      ],
      "metadata": {
        "id": "hDGOqIZIcJay"
      }
    },
    {
      "cell_type": "markdown",
      "source": [
        "## Author\n",
        "Georgi Pepelyankov"
      ],
      "metadata": {
        "id": "hI1r3RSOcii2"
      }
    }
  ]
}